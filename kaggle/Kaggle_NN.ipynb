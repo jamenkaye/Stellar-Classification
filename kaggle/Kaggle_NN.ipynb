{
  "cells": [
    {
      "cell_type": "code",
      "execution_count": 1,
      "metadata": {
        "id": "I0ywNfQ9LnEv"
      },
      "outputs": [],
      "source": [
        "# starter imports + mount to drive\n",
        "import math\n",
        "import sys\n",
        "import numpy as np\n",
        "import re\n",
        "import random\n",
        "import os\n",
        "# import cv2\n",
        "\n",
        "import ipywidgets\n",
        "from ipywidgets import interact\n",
        "\n",
        "from tensorflow.keras import layers\n",
        "from tensorflow.keras import models\n",
        "from tensorflow.keras import optimizers\n",
        "\n",
        "from tensorflow.keras.utils import plot_model\n",
        "from tensorflow.keras import backend\n",
        "\n",
        "# from collections import Counter\n",
        "from matplotlib import pyplot as plt\n",
        "from PIL import Image\n",
        "\n",
        "# For confusion matrix\n",
        "import seaborn as sn\n",
        "import pandas as pd\n",
        "from sklearn.metrics import confusion_matrix\n",
        "\n",
        "# Google drive access\n",
        "# from google.colab import drive\n",
        "# drive.mount('/content/drive')"
      ]
    },
    {
      "cell_type": "code",
      "execution_count": 2,
      "metadata": {
        "id": "qmy_kteJBp2F"
      },
      "outputs": [],
      "source": [
        "def files_in_folder(folder_path):\n",
        "    \n",
        "    return os.listdir(folder_path)\n",
        "    # '''\n",
        "    # Returns a list of strings where each entry is a file in the folder_path, but Jamen fixed it??\n",
        "\n",
        "    # folder_path : str\n",
        "    #     A string to folder for which the file listing is returned.\n",
        "    # '''\n",
        "    \n",
        "    # files_A = !ls \"{folder_path}\"\n",
        "\n",
        "    # files_list = []\n",
        "    # for twoFileStr in files_A:\n",
        "    #     for fileName in twoFileStr.split(\"\\t\"):\n",
        "    #         if len(fileName) > 0: files_list.append(fileName)\n",
        "\n",
        "    # return files_list\n"
      ]
    },
    {
      "cell_type": "code",
      "execution_count": 4,
      "metadata": {
        "id": "2foXxHekL-6-"
      },
      "outputs": [],
      "source": [
        "# Load images\n",
        "dataPath = \"data\"\n",
        "\n",
        "galaxyPath = dataPath + \"/galaxy\"\n",
        "starPath = dataPath + \"/star\"\n",
        "\n",
        "# def files_in_folder(folder_path):\n",
        "#   '''\n",
        "#   Returns a list of strings where each entry is a file in the folder_path.\n",
        "\n",
        "#   folder_path : str\n",
        "#      A string to folder for which the file listing is returned.\n",
        "#   '''\n",
        "#   files_A = !ls \"{folder_path}\"\n",
        "#   print(files_A)\n",
        "#   # The files when listed from Google Drive have a particular format. They are\n",
        "#   # grouped in sets of 4 and have spaces and tabs as delimiters.\n",
        "\n",
        "#   # Split the string listing sets of 4 files by tab and space and remove any\n",
        "#   # empty splits.\n",
        "#   files_B = [list(filter(None, re.split('\\t|\\s', files))) for files in files_A]\n",
        "\n",
        "#   # Concatenate all splits into a single sorted list\n",
        "#   files_C = []\n",
        "#   for element in files_B:\n",
        "#     files_C = files_C + element\n",
        "#   files_C.sort()\n",
        "\n",
        "#   return files_C\n",
        "\n",
        "galaxyImageFileNames = files_in_folder(galaxyPath)\n",
        "starImageFileNames = files_in_folder(starPath)"
      ]
    },
    {
      "cell_type": "markdown",
      "metadata": {
        "id": "lbVUzMgkZwsL"
      },
      "source": [
        "## Set Aside Test Data\n",
        "Pick what images are set aside for testing at the end. I feel like 50 galaxy images and 200 Star images is good. This should be enough for a good sample, but we're limited in the number of galaxy images available\n",
        "\n",
        "If this section is commented out, it means its already done."
      ]
    },
    {
      "cell_type": "code",
      "execution_count": 6,
      "metadata": {
        "id": "OvF6CkdRSlK6"
      },
      "outputs": [],
      "source": [
        "# Make the folders if needed\n",
        "if not os.path.exists(\"data/test_star\"):\n",
        "    os.mkdir(\"data/test_star\")\n",
        "\n",
        "if not os.path.exists(\"data/test_galaxy\"):\n",
        "    os.mkdir(\"data/test_galaxy\")\n",
        "\n",
        "test_galaxy_filenames = random.sample(galaxyImageFileNames, 50)\n",
        "test_star_filenames = random.sample(starImageFileNames, 200)\n",
        "\n",
        "for fileName in test_galaxy_filenames:\n",
        "    os.rename(\"{}/galaxy/{}\".format(dataPath, fileName), \"{}/test_galaxy/{}\".format(dataPath, fileName))\n",
        "    test_galaxy_filenames.remove(fileName)\n",
        "\n",
        "for fileName in test_star_filenames:\n",
        "    os.rename(\"{}/star/{}\".format(dataPath, fileName), \"{}/test_star/{}\".format(dataPath, fileName))\n",
        "    test_star_filenames.remove(fileName)"
      ]
    },
    {
      "cell_type": "markdown",
      "metadata": {
        "id": "cn4-KZ9F25hm"
      },
      "source": [
        "Seems to be some issue with appending arrays of arrays where the elements have different shapes. Testing..."
      ]
    },
    {
      "cell_type": "code",
      "execution_count": null,
      "metadata": {
        "id": "cTlPhbU1zsVG"
      },
      "outputs": [],
      "source": [
        "# Test np.array having different dimenstion arrays at each index:\n",
        "# testArr = np.array([[0, 1, 1], 1], dtype=object)\n",
        "# testArr = np.append(testArr, [[1, 2, 3], 2])\n",
        "# print(testArr[2])"
      ]
    },
    {
      "cell_type": "markdown",
      "metadata": {
        "id": "BNv9XLyl3DOH"
      },
      "source": [
        "The arrays didn't seem to work well. I'll use lists, and then I can also just randomize the order with random.shuffle(list)\n",
        "https://www.w3schools.com/python/ref_random_shuffle.asp"
      ]
    },
    {
      "cell_type": "code",
      "execution_count": null,
      "metadata": {
        "id": "kGkaN_oo2BZE"
      },
      "outputs": [],
      "source": [
        "# trainImages = []\n",
        "# trainImages.append([[1, 2, 3], 4])\n",
        "# trainImages.append([[4, 2, 3], 5])\n",
        "# print(trainImages[1][0])"
      ]
    },
    {
      "cell_type": "code",
      "execution_count": null,
      "metadata": {
        "id": "6BMleapRNDSQ"
      },
      "outputs": [],
      "source": [
        "# Now want all the images shuffled together, with all the correct answers in the same order.\n",
        "\n",
        "# allImages = np.array([[np.array(Image.open(f'{galaxyPath}/{file}')), 0] for file in galaxyImageFileNames[:]])\n",
        "# print(\"Done Galaxies\")\n",
        "# allImages = np.append(allImages, np.array([[np.array(Image.open(f'{starPath}/{file}')), 1] for file in starImageFileNames[:]]))\n",
        "\n",
        "# numImages = allImages.shape[0]\n",
        "# print(\"Loaded {:} images from data folders.\".format(allImages.shape[0]))\n",
        "\n",
        "\n",
        "# The individual images are on the level of array[][]\n",
        "\n",
        "# Display the images in their original state so we can see them\n",
        "# Figure size in \"inches\", i guess it determines how it displays on my screen\n",
        "\n",
        "# fig = plt.figure(figsize=(7, 1.4*numImages))\n",
        "# for i in range(numImages):\n",
        "#     fig.add_subplot(numImages/2 + 1, 2, i + 1)\n",
        "#     plt.imshow(imgset0[i][0])\n",
        "#     plt.axis('off')\n",
        "#     plt.title(\"Figure \" + str(i + 1))\n",
        "# plt.show()"
      ]
    },
    {
      "cell_type": "markdown",
      "metadata": {
        "id": "5CVAJ6KvvH-M"
      },
      "source": [
        "Note: code block below works, but takes ~20 mins on first run. Especially the stars for\n",
        "\n",
        "*   List item\n",
        "*   List item\n",
        "\n",
        "some reason."
      ]
    },
    {
      "cell_type": "code",
      "execution_count": 8,
      "metadata": {
        "colab": {
          "base_uri": "https://localhost:8080/"
        },
        "id": "KKzd_8Vd3SID",
        "outputId": "ba339769-fc17-496d-e5f8-e6e864021650"
      },
      "outputs": [
        {
          "name": "stdout",
          "output_type": "stream",
          "text": [
            "Loaded 200 of 3861 images; 5.2% complete.\n",
            "Loaded 400 of 3861 images; 10.4% complete.\n",
            "Loaded 600 of 3861 images; 15.5% complete.\n",
            "Loaded 800 of 3861 images; 20.7% complete.\n",
            "Done loading galaxies.\n",
            "Loaded 1000 of 3861 images; 25.9% complete.\n",
            "Loaded 1200 of 3861 images; 31.1% complete.\n",
            "Loaded 1400 of 3861 images; 36.3% complete.\n",
            "Loaded 1600 of 3861 images; 41.4% complete.\n",
            "Loaded 1800 of 3861 images; 46.6% complete.\n",
            "Loaded 2000 of 3861 images; 51.8% complete.\n",
            "Loaded 2200 of 3861 images; 57.0% complete.\n",
            "Loaded 2400 of 3861 images; 62.2% complete.\n",
            "Loaded 2600 of 3861 images; 67.3% complete.\n",
            "Loaded 2800 of 3861 images; 72.5% complete.\n",
            "Loaded 3000 of 3861 images; 77.7% complete.\n",
            "Loaded 3200 of 3861 images; 82.9% complete.\n",
            "Loaded 3400 of 3861 images; 88.1% complete.\n",
            "Loaded 3600 of 3861 images; 93.2% complete.\n",
            "Loaded 3800 of 3861 images; 98.4% complete.\n",
            "Done loading stars.\n"
          ]
        }
      ],
      "source": [
        "# Get the new lists of filenames, excluding ones removed for testing\n",
        "galaxyImageFileNames = files_in_folder(galaxyPath)\n",
        "starImageFileNames = files_in_folder(starPath)\n",
        "\n",
        "trainImages = []\n",
        "numTotalImages = len(galaxyImageFileNames) + len(starImageFileNames)\n",
        "imagesLoaded = 0\n",
        "\n",
        "for file in galaxyImageFileNames:\n",
        "    trainImages.append([np.array(Image.open(f'{galaxyPath}/{file}'))[:, :, 0], np.array([0, 1])])\n",
        "    # Note ^ only need 0'th color channel since all channels are the same\n",
        "    imagesLoaded += 1\n",
        "    if imagesLoaded % 200 == 0:\n",
        "        print(\"Loaded {} of {} images; {}% complete.\".format(imagesLoaded,\n",
        "                                                             numTotalImages, round(100*imagesLoaded/numTotalImages, 1)))\n",
        "\n",
        "print(\"Done loading galaxies.\")\n",
        "for file in starImageFileNames:\n",
        "    trainImages.append([np.array(Image.open(f'{starPath}/{file}'))[:, :, 0], np.array([1, 0])])\n",
        "    imagesLoaded += 1\n",
        "    if (imagesLoaded % 200 == 0):\n",
        "        print(\"Loaded {} of {} images; {}% complete.\".format(imagesLoaded,\n",
        "                                                             numTotalImages, round(100*imagesLoaded/numTotalImages, 1)))\n",
        "print(\"Done loading stars.\")"
      ]
    },
    {
      "cell_type": "markdown",
      "metadata": {
        "id": "aPWWV2eQ8kWN"
      },
      "source": [
        "Check shape of data and stuff\n",
        "\n",
        "* Image types are numpy ndarray\n",
        "* Image sizes are 12288 (changed)\n",
        "* Image dimensions are (64, 64, 3) (but now changed to (64, 64, 1)\n",
        "* even though 3 color channels, they all have the same value. Only need one layer."
      ]
    },
    {
      "cell_type": "code",
      "execution_count": 9,
      "metadata": {
        "colab": {
          "base_uri": "https://localhost:8080/"
        },
        "id": "9VzSOMD38jEC",
        "outputId": "c25afb6f-8370-497c-dfd9-501b9fe73545"
      },
      "outputs": [
        {
          "name": "stdout",
          "output_type": "stream",
          "text": [
            "imageNum: 0. Property: <class 'numpy.ndarray'>\n",
            "imageNum: 500. Property: <class 'numpy.ndarray'>\n",
            "imageNum: 1000. Property: <class 'numpy.ndarray'>\n",
            "imageNum: 3000. Property: <class 'numpy.ndarray'>\n",
            "imageNum: 3834. Property: <class 'numpy.ndarray'>\n"
          ]
        }
      ],
      "source": [
        "for imageNum in [0, 500, 1000, 3000, 3834]:\n",
        "    print(\"imageNum: {}. Property: {}\".format(imageNum, type(trainImages[imageNum][1])))"
      ]
    },
    {
      "cell_type": "markdown",
      "metadata": {
        "id": "qB9ae0SVBUhu"
      },
      "source": [
        "Shuffle the list, and separate into X and Y datasets (training data and answers)\n",
        "\n",
        "Stacking arrays: https://stackoverflow.com/questions/56486275/combining-list-of-2d-numpy-arrays\n"
      ]
    },
    {
      "cell_type": "code",
      "execution_count": 10,
      "metadata": {
        "id": "jl-I4TL6x5PA"
      },
      "outputs": [],
      "source": [
        "random.shuffle(trainImages)\n",
        "\n",
        "onlyImages = np.stack([entry[0] for entry in trainImages])\n",
        "answers = np.stack([entry[1] for entry in trainImages])"
      ]
    },
    {
      "cell_type": "code",
      "execution_count": 11,
      "metadata": {
        "id": "fVoV-jpIZmX_"
      },
      "outputs": [],
      "source": [
        "conv_model = models.Sequential()\n",
        "# 32, 3, 3 makes a 3 by 3 filter thing for 32 things\n",
        "# input shape is the dimensions of the images. (Change RGB -> Greyscale to speed up?)\n",
        "conv_model.add(layers.Conv2D(32, (3, 3), activation='relu', input_shape=(64, 64, 1)))\n",
        "conv_model.add(layers.MaxPooling2D((2, 2)))\n",
        "conv_model.add(layers.Conv2D(64, (3, 3), activation='relu'))\n",
        "conv_model.add(layers.MaxPooling2D((2, 2)))\n",
        "conv_model.add(layers.Flatten())\n",
        "conv_model.add(layers.Dropout(0.5))\n",
        "conv_model.add(layers.Dense(256, activation='relu'))\n",
        "# 2 is because there are 2 outputs (galaxy or star)\n",
        "conv_model.add(layers.Dense(2, activation='softmax'))\n",
        "\n",
        "LEARNING_RATE = 1e-4\n",
        "conv_model.compile(loss='categorical_crossentropy',\n",
        "                   optimizer=optimizers.RMSprop(learning_rate=LEARNING_RATE), metrics=['acc'])"
      ]
    },
    {
      "cell_type": "code",
      "execution_count": 12,
      "metadata": {
        "colab": {
          "base_uri": "https://localhost:8080/"
        },
        "id": "2keL_aGfAn8I",
        "outputId": "2a89452e-3d4e-401e-bd14-2b593aae0ab1"
      },
      "outputs": [
        {
          "name": "stdout",
          "output_type": "stream",
          "text": [
            "Epoch 1/20\n",
            "109/109 [==============================] - 15s 125ms/step - loss: 4.0978 - acc: 0.6552 - val_loss: 0.5215 - val_acc: 0.7778\n",
            "Epoch 2/20\n",
            "109/109 [==============================] - 19s 175ms/step - loss: 0.6108 - acc: 0.7248 - val_loss: 0.6194 - val_acc: 0.6925\n",
            "Epoch 3/20\n",
            "109/109 [==============================] - 13s 122ms/step - loss: 0.5418 - acc: 0.7510 - val_loss: 0.4760 - val_acc: 0.7829\n",
            "Epoch 4/20\n",
            "109/109 [==============================] - 14s 130ms/step - loss: 0.4682 - acc: 0.7703 - val_loss: 0.5441 - val_acc: 0.7287\n",
            "Epoch 5/20\n",
            "109/109 [==============================] - 15s 137ms/step - loss: 0.4107 - acc: 0.8071 - val_loss: 0.3494 - val_acc: 0.8630\n",
            "Epoch 6/20\n",
            "109/109 [==============================] - 14s 132ms/step - loss: 0.3586 - acc: 0.8342 - val_loss: 0.3560 - val_acc: 0.8527\n",
            "Epoch 7/20\n",
            "109/109 [==============================] - 12s 113ms/step - loss: 0.3081 - acc: 0.8661 - val_loss: 1.6247 - val_acc: 0.2972\n",
            "Epoch 8/20\n",
            "109/109 [==============================] - 13s 116ms/step - loss: 0.2692 - acc: 0.8886 - val_loss: 0.2807 - val_acc: 0.8811\n",
            "Epoch 9/20\n",
            "109/109 [==============================] - 16s 148ms/step - loss: 0.2435 - acc: 0.8981 - val_loss: 0.5032 - val_acc: 0.7700\n",
            "Epoch 10/20\n",
            "109/109 [==============================] - 17s 156ms/step - loss: 0.2193 - acc: 0.9090 - val_loss: 0.3070 - val_acc: 0.8450\n",
            "Epoch 11/20\n",
            "109/109 [==============================] - 18s 167ms/step - loss: 0.1879 - acc: 0.9298 - val_loss: 0.3054 - val_acc: 0.8475\n",
            "Epoch 12/20\n",
            "109/109 [==============================] - 20s 185ms/step - loss: 0.1600 - acc: 0.9355 - val_loss: 0.4728 - val_acc: 0.8114\n",
            "Epoch 13/20\n",
            "109/109 [==============================] - 20s 181ms/step - loss: 0.1530 - acc: 0.9381 - val_loss: 0.6556 - val_acc: 0.7209\n",
            "Epoch 14/20\n",
            "109/109 [==============================] - 24s 221ms/step - loss: 0.1243 - acc: 0.9531 - val_loss: 0.3443 - val_acc: 0.8475\n",
            "Epoch 15/20\n",
            "109/109 [==============================] - 21s 188ms/step - loss: 0.1185 - acc: 0.9565 - val_loss: 0.3319 - val_acc: 0.8630\n",
            "Epoch 16/20\n",
            "109/109 [==============================] - 24s 223ms/step - loss: 0.1048 - acc: 0.9646 - val_loss: 0.4184 - val_acc: 0.8553\n",
            "Epoch 17/20\n",
            "109/109 [==============================] - 16s 143ms/step - loss: 0.1020 - acc: 0.9655 - val_loss: 0.3583 - val_acc: 0.8605\n",
            "Epoch 18/20\n",
            "109/109 [==============================] - 17s 152ms/step - loss: 0.0911 - acc: 0.9680 - val_loss: 0.3560 - val_acc: 0.8553\n",
            "Epoch 19/20\n",
            "109/109 [==============================] - 20s 180ms/step - loss: 0.0820 - acc: 0.9715 - val_loss: 0.3518 - val_acc: 0.8605\n",
            "Epoch 20/20\n",
            "109/109 [==============================] - 18s 161ms/step - loss: 0.0739 - acc: 0.9727 - val_loss: 0.4438 - val_acc: 0.8295\n"
          ]
        }
      ],
      "source": [
        "VALIDATION_SPLIT = 0.1 #how much of the data to use for training vs testing\n",
        "\n",
        "# optional to reset the thingies\n",
        "# X_dataset is inputs, Y_dataset is desired outputs\n",
        "history_conv = conv_model.fit(onlyImages, answers, validation_split=VALIDATION_SPLIT, epochs=20, batch_size=32)\n",
        "# ^ originally was 20 epochs but 6 or so is enough to get fully trained with with non-blurred images\n",
        "# ^ batch size was originally 16; changed to 8"
      ]
    },
    {
      "cell_type": "code",
      "execution_count": 13,
      "metadata": {
        "colab": {
          "base_uri": "https://localhost:8080/",
          "height": 472
        },
        "id": "jFChWW0p4ERY",
        "outputId": "00232f6e-bbad-4deb-c9a7-6564ff508c4b"
      },
      "outputs": [
        {
          "data": {
            "image/png": "[encoded data removed]",
            "text/plain": [
              "<Figure size 640x480 with 1 Axes>"
            ]
          },
          "metadata": {},
          "output_type": "display_data"
        }
      ],
      "source": [
        "# Plot top losses\n",
        "plt.plot(history_conv.history['loss'])\n",
        "plt.plot(history_conv.history['val_loss'])\n",
        "plt.title('model loss')\n",
        "plt.ylabel('loss')\n",
        "plt.xlabel('epoch')\n",
        "plt.legend(['train loss', 'val loss'], loc='upper left')\n",
        "\n",
        "# interesting to see on a log plot too\n",
        "#ax = plt.gca()\n",
        "#ax.set_yscale('log')\n",
        "plt.show()"
      ]
    },
    {
      "cell_type": "markdown",
      "metadata": {
        "id": "nHy-TIuM5Qtl"
      },
      "source": [
        "Use the model to predict the test images. Start by loading the test images.\n",
        "\n",
        "predictionsIndexes is a 1d array containing index of max entry on that row."
      ]
    },
    {
      "cell_type": "code",
      "execution_count": 14,
      "metadata": {
        "colab": {
          "base_uri": "https://localhost:8080/"
        },
        "id": "bZv6QcWS6AmM",
        "outputId": "e6719802-ccda-4bf4-f497-a8ff40467b67"
      },
      "outputs": [
        {
          "name": "stdout",
          "output_type": "stream",
          "text": [
            "Done loading test galaxies.\n",
            "Loaded 50 of 125 images; 40.0% complete.\n",
            "Loaded 100 of 125 images; 80.0% complete.\n",
            "Done loading test stars.\n",
            "(125, 2)\n",
            "(125, 64, 64)\n"
          ]
        }
      ],
      "source": [
        "#load the test images\n",
        "galaxyPath = dataPath + \"/test_galaxy\"\n",
        "starPath = dataPath + \"/test_star\"\n",
        "\n",
        "galaxyImageFileNames = files_in_folder(galaxyPath)\n",
        "starImageFileNames = files_in_folder(starPath)\n",
        "\n",
        "testImages = []\n",
        "numTotalImages = len(galaxyImageFileNames) + len(starImageFileNames)\n",
        "imagesLoaded = 0\n",
        "\n",
        "for file in galaxyImageFileNames:\n",
        "    testImages.append([np.array(Image.open(f'{galaxyPath}/{file}'))[:, :, 0], np.array([0, 1])])\n",
        "    # Note ^ only need 0'th color channel since all channels are the same\n",
        "    imagesLoaded += 1\n",
        "    if imagesLoaded % 50 == 0:\n",
        "        print(\"Loaded {} of {} images; {}% complete.\".format(imagesLoaded,\n",
        "                                                             numTotalImages, round(100*imagesLoaded/numTotalImages, 1)))\n",
        "\n",
        "print(\"Done loading test galaxies.\")\n",
        "for file in starImageFileNames:\n",
        "    testImages.append([np.array(Image.open(f'{starPath}/{file}'))[:, :, 0], np.array([1, 0])])\n",
        "    imagesLoaded += 1\n",
        "    if (imagesLoaded % 50 == 0):\n",
        "        print(\"Loaded {} of {} images; {}% complete.\".format(imagesLoaded,\n",
        "                                                             numTotalImages, round(100*imagesLoaded/numTotalImages, 1)))\n",
        "print(\"Done loading test stars.\")\n",
        "\n",
        "# Shuffle and separate into data and answers\n",
        "random.shuffle(testImages)\n",
        "onlyTestImages = np.stack([entry[0] for entry in testImages])\n",
        "testAnswers = np.stack([entry[1] for entry in testImages])\n",
        "\n",
        "print(testAnswers.shape)\n",
        "print(onlyTestImages.shape)"
      ]
    },
    {
      "cell_type": "code",
      "execution_count": 16,
      "metadata": {
        "colab": {
          "base_uri": "https://localhost:8080/",
          "height": 344
        },
        "id": "jqc5avPv3ad1",
        "outputId": "515c388a-e9f0-459e-9c29-85871d51f284"
      },
      "outputs": [
        {
          "name": "stdout",
          "output_type": "stream",
          "text": [
            "4/4 [==============================] - 0s 27ms/step\n",
            "What is the average confidence in the correct answer, based on the ground truth of the image?\n",
            "Star:   83.4\n",
            "Galaxy: 72.5\n"
          ]
        },
        {
          "data": {
            "text/plain": [
              "<Axes: title={'center': 'actual on y axis\\n predicted on x-axis'}>"
            ]
          },
          "execution_count": 16,
          "metadata": {},
          "output_type": "execute_result"
        },
        {
          "data": {
            "image/png": "[encoded data removed]",
            "text/plain": [
              "<Figure size 250x200 with 2 Axes>"
            ]
          },
          "metadata": {},
          "output_type": "display_data"
        }
      ],
      "source": [
        "predictions_raw = conv_model.predict(onlyTestImages, use_multiprocessing=True)\n",
        "predictions_old = np.argmax(predictions_raw, axis=1)\n",
        "Y_dataset_1D = np.argmax(testAnswers, axis=1)\n",
        "\n",
        "# Make predictions; if high confidence of star, pick star, otherwise pick galaxy\n",
        "predictions = []\n",
        "THRESH = 0.5\n",
        "\n",
        "for index in range(len(predictions_old)):\n",
        "    if predictions_raw[index][0] > THRESH:\n",
        "        predictions.append(0)\n",
        "    else:\n",
        "        predictions.append(1)\n",
        "\n",
        "predictions = np.array(predictions)\n",
        "\n",
        "galaxyNumber = 0\n",
        "starNumber = 0\n",
        "totalGalaxyConfidence = 0\n",
        "totalStarConfidence = 0\n",
        "\n",
        "for index in range(len(predictions_old)):\n",
        "    if Y_dataset_1D[index] == 1: # Since index 1 is where you find the value of 1 in the answer vector representing galaxy\n",
        "        star_or_galaxy = \"galaxy.\"\n",
        "        galaxyNumber += 1\n",
        "        totalGalaxyConfidence += predictions_raw[index][1]\n",
        "    else:\n",
        "        star_or_galaxy = \"star.  \"\n",
        "        starNumber += 1\n",
        "        totalStarConfidence += predictions_raw[index][0]\n",
        "\n",
        "    # print(\"Object: {} confidence: {}\".format(star_or_galaxy, max(predictions_raw[index])))\n",
        "\n",
        "\n",
        "print(\"What is the average confidence in the correct answer, based on the ground truth of the image?\")\n",
        "print(\"Star:   {}\".format(round(100*totalStarConfidence/starNumber, 1)))\n",
        "print(\"Galaxy: {}\".format(round(100*totalGalaxyConfidence/galaxyNumber, 1)))\n",
        "\n",
        "# print(predictions_raw)\n",
        "# print(predictions.shape)\n",
        "# print(Y_dataset_1D.shape)\n",
        "\n",
        "# Plot Confusion matrix\n",
        "conf_mat = confusion_matrix(Y_dataset_1D, predictions)\n",
        "\n",
        "df_cm = pd.DataFrame(conf_mat, index = [i for i in [\"star\", \"galaxy\"]],\n",
        "                  columns = [i for i in [\"star\", \"galaxy\"]])\n",
        "plt.figure(figsize = (2.5, 2))\n",
        "plt.title(\"actual on y axis\\n predicted on x-axis\")\n",
        "plt.xlabel(\"predicted\")\n",
        "plt.ylabel(\"actual\")\n",
        "sn.heatmap(df_cm, annot=True)"
      ]
    }
  ],
  "metadata": {
    "colab": {
      "provenance": []
    },
    "kernelspec": {
      "display_name": "Python 3",
      "name": "python3"
    },
    "language_info": {
      "codemirror_mode": {
        "name": "ipython",
        "version": 3
      },
      "file_extension": ".py",
      "mimetype": "text/x-python",
      "name": "python",
      "nbconvert_exporter": "python",
      "pygments_lexer": "ipython3",
      "version": "3.9.7"
    }
  },
  "nbformat": 4,
  "nbformat_minor": 0
}
